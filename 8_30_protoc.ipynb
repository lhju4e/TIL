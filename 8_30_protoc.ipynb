{
 "cells": [
  {
   "cell_type": "markdown",
   "metadata": {},
   "source": [
    "## Proto"
   ]
  },
  {
   "cell_type": "markdown",
   "metadata": {},
   "source": [
    "![proto.png](./image/proto.png)"
   ]
  },
  {
   "cell_type": "markdown",
   "metadata": {},
   "source": [
    "*어이없어서 작성..*\n",
    "\n",
    "환경설정을 하는데 \n",
    "\n",
    "> D:/object_detection/protos/anchor_generator.proto: File does not reside within any path specified using --proto_path (or -I).  You must specify a --proto_path which encompasses this file.  Note that the proto_path must be an exact prefix of the .proto file names -- protoc is too dumb to figure out when two paths (e.g. absolute and relative) are equivalent (it's harder than you think).\n",
    "\n",
    "이런 오류가 계속 떴다. 열심히 찾다가 경로설정을 해주라는 것 같아 해주니 또 파일을 인식하지 못한다.  \n",
    "스택 오버플로우에 어떤 사람이 컴파일할 폴더로 이동하라고 (object_detection이 있는 곳) 해서 이동하고 했더니 한번에 성공함 ㅜㅜ.. 허무\n"
   ]
  },
  {
   "cell_type": "markdown",
   "metadata": {},
   "source": [
    "## protoc에 관한 글\n",
    "\n",
    "위의 링크는 한글이니까 밑에것만 정리\n",
    "\n",
    "> https://jeong-pro.tistory.com/190 - Protocol Buffer 원리로 배우는 고성능 직렬화, 역직렬화 전략!\n",
    "\n",
    "> https://developers.google.com/protocol-buffers/docs/overview - 구글 개발자 가이드\n",
    "\n",
    "- protocol buffer는 구조화된 데이터의 직렬화를 위한 유연하고, 효율적이고, 자동화된 매커니즘이다.  \n",
    "\n",
    "- XML이랑 비슷하지만 더 용량이 작고, 빠르고, 단순하다.  \n",
    "(페이지에 자세한 예시가 나와있음)\n",
    "\n",
    "- 데이터 구조를 업데이트할 때 이전 포맷을 다시 부숴서 개발할 필요도 없다\n",
    "\n",
    "- HTML같이 텍스트 기반 문서 모델에는 별로 안좋음 (글자 기반이 아니니까)\n",
    "\n",
    "- 이러한 장점들 때문에, tensorflow 내부 그래프는 protocol buffer로 만들어진다고 한다."
   ]
  }
 ],
 "metadata": {
  "kernelspec": {
   "display_name": "Python 3",
   "language": "python",
   "name": "python3"
  },
  "language_info": {
   "codemirror_mode": {
    "name": "ipython",
    "version": 3
   },
   "file_extension": ".py",
   "mimetype": "text/x-python",
   "name": "python",
   "nbconvert_exporter": "python",
   "pygments_lexer": "ipython3",
   "version": "3.7.3"
  }
 },
 "nbformat": 4,
 "nbformat_minor": 2
}
