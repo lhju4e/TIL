{
 "cells": [
  {
   "cell_type": "markdown",
   "metadata": {},
   "source": [
    "# gdb로 하는 리버싱 완전 기초 - 시스템보안 실습\n",
    "\n",
    "--------------------------------------------"
   ]
  },
  {
   "cell_type": "markdown",
   "metadata": {},
   "source": [
    "### 1\n",
    "\n",
    " ## 프로그램이 들어오면 우선 문자열을 열어본다\n",
    "\n",
    " ## 문자열은 (리눅스 기준) rodata 섹션에 존재한다.\n"
   ]
  },
  {
   "cell_type": "markdown",
   "metadata": {},
   "source": [
    "![그림1](./image/reverse_1.PNG)\n",
    "\n",
    "## 리눅스 파일의 rodata섹션을 볼 수 있다."
   ]
  },
  {
   "cell_type": "markdown",
   "metadata": {},
   "source": [
    "## 1. 여기서 적당한 지점에 breakpoint를 건 뒤, \n",
    "\n",
    "## rodata의 주소값을 이용해 값을 읽어오거나\n",
    "\n",
    "![그림2](./image/reverse_2.PNG)\n",
    "\n",
    "## 2. objdump를 이용해 rodata 섹션을 덤프뜨는 방법이 있다.\n",
    "\n",
    "![그림3](./image/reverse_3.PNG)"
   ]
  },
  {
   "cell_type": "markdown",
   "metadata": {},
   "source": [
    "## => 비밀번호는 string으로 가볍게 넣어놓으면 절대 X. \n",
    "\n",
    "## 잘 숨겨놓아야 함.\n",
    "\n",
    "-----------------------------------------------------------------------------------"
   ]
  },
  {
   "cell_type": "markdown",
   "metadata": {},
   "source": [
    "## 2\n",
    "\n",
    "## 특정 분기로 가고싶을 때"
   ]
  },
  {
   "cell_type": "markdown",
   "metadata": {},
   "source": [
    "![그림4](./image/reverse_4.PNG)\n",
    "\n",
    "## 1 jump\n",
    "## 대략 25번째에서 비교해주고, 30번째에서 분기하는 것을 알 수 있다.\n",
    "\n",
    "## 조건에 맞지 않으면 53번째 줄로 보내버린다.\n",
    "\n",
    "## 분기에 걸리지 않는 것처럼 분기점까지 간 후, 그 밑 주소로 점프한다"
   ]
  },
  {
   "cell_type": "markdown",
   "metadata": {},
   "source": [
    "![그림5](./image/reverse_5.PNG)\n",
    "\n",
    "![그림6](./image/reverse_6.PNG)"
   ]
  },
  {
   "cell_type": "markdown",
   "metadata": {},
   "source": [
    "## 2. set\n",
    "\n",
    "## 25번째에서 분기시, esp레지스터의 +0x1c값과 0을 비교하는 것을 볼 수 있다.\n",
    "\n",
    "## 따라서 해당 값을 비교값과 같게 세팅하면, 원하는 곳으로 갈 수 있다."
   ]
  },
  {
   "cell_type": "code",
   "execution_count": null,
   "metadata": {},
   "outputs": [],
   "source": []
  }
 ],
 "metadata": {
  "kernelspec": {
   "display_name": "Python 3",
   "language": "python",
   "name": "python3"
  },
  "language_info": {
   "codemirror_mode": {
    "name": "ipython",
    "version": 3
   },
   "file_extension": ".py",
   "mimetype": "text/x-python",
   "name": "python",
   "nbconvert_exporter": "python",
   "pygments_lexer": "ipython3",
   "version": "3.6.5"
  }
 },
 "nbformat": 4,
 "nbformat_minor": 2
}
