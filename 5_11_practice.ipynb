{
 "cells": [
  {
   "cell_type": "code",
   "execution_count": 2,
   "metadata": {},
   "outputs": [
    {
     "name": "stderr",
     "output_type": "stream",
     "text": [
      "C:\\ProgramData\\Anaconda3\\lib\\site-packages\\IPython\\core\\interactiveshell.py:2785: DtypeWarning: Columns (0) have mixed types. Specify dtype option on import or set low_memory=False.\n",
      "  interactivity=interactivity, compiler=compiler, result=result)\n"
     ]
    }
   ],
   "source": [
    "import pandas as pd\n",
    "\n",
    "data= pd.read_csv('st_data_itemChargeFull.tsv', sep='\\t')\n"
   ]
  },
  {
   "cell_type": "code",
   "execution_count": 6,
   "metadata": {},
   "outputs": [
    {
     "data": {
      "text/html": [
       "<div>\n",
       "<style scoped>\n",
       "    .dataframe tbody tr th:only-of-type {\n",
       "        vertical-align: middle;\n",
       "    }\n",
       "\n",
       "    .dataframe tbody tr th {\n",
       "        vertical-align: top;\n",
       "    }\n",
       "\n",
       "    .dataframe thead th {\n",
       "        text-align: right;\n",
       "    }\n",
       "</style>\n",
       "<table border=\"1\" class=\"dataframe\">\n",
       "  <thead>\n",
       "    <tr style=\"text-align: right;\">\n",
       "      <th></th>\n",
       "      <th>itemcode</th>\n",
       "      <th>itemname</th>\n",
       "      <th>market</th>\n",
       "      <th>date</th>\n",
       "      <th>close_val</th>\n",
       "      <th>change_val</th>\n",
       "      <th>change_rate</th>\n",
       "      <th>acc_quant</th>\n",
       "      <th>debt_total</th>\n",
       "      <th>face_val</th>\n",
       "      <th>...</th>\n",
       "      <th>operating_profit</th>\n",
       "      <th>operating_profit_increasing_rate</th>\n",
       "      <th>prev_quant</th>\n",
       "      <th>property_total</th>\n",
       "      <th>reserve_ratio</th>\n",
       "      <th>roa</th>\n",
       "      <th>roe</th>\n",
       "      <th>sales</th>\n",
       "      <th>sales_increasing_rate</th>\n",
       "      <th>trade_stop_yn</th>\n",
       "    </tr>\n",
       "  </thead>\n",
       "  <tbody>\n",
       "    <tr>\n",
       "      <th>0</th>\n",
       "      <td>000020</td>\n",
       "      <td>동화약품</td>\n",
       "      <td>KOSPI</td>\n",
       "      <td>20150107</td>\n",
       "      <td>5540.0</td>\n",
       "      <td>70.0</td>\n",
       "      <td>1.26</td>\n",
       "      <td>42517.0</td>\n",
       "      <td>732.0</td>\n",
       "      <td>1000</td>\n",
       "      <td>...</td>\n",
       "      <td>112.0</td>\n",
       "      <td>NaN</td>\n",
       "      <td>62744.0</td>\n",
       "      <td>3706.0</td>\n",
       "      <td>967.43</td>\n",
       "      <td>NaN</td>\n",
       "      <td>NaN</td>\n",
       "      <td>3066.0</td>\n",
       "      <td>NaN</td>\n",
       "      <td>N</td>\n",
       "    </tr>\n",
       "    <tr>\n",
       "      <th>1</th>\n",
       "      <td>000020</td>\n",
       "      <td>동화약품</td>\n",
       "      <td>KOSPI</td>\n",
       "      <td>20150113</td>\n",
       "      <td>5600.0</td>\n",
       "      <td>40.0</td>\n",
       "      <td>0.71</td>\n",
       "      <td>39527.0</td>\n",
       "      <td>732.0</td>\n",
       "      <td>1000</td>\n",
       "      <td>...</td>\n",
       "      <td>112.0</td>\n",
       "      <td>NaN</td>\n",
       "      <td>62744.0</td>\n",
       "      <td>3706.0</td>\n",
       "      <td>967.43</td>\n",
       "      <td>NaN</td>\n",
       "      <td>NaN</td>\n",
       "      <td>3066.0</td>\n",
       "      <td>NaN</td>\n",
       "      <td>N</td>\n",
       "    </tr>\n",
       "    <tr>\n",
       "      <th>2</th>\n",
       "      <td>000020</td>\n",
       "      <td>동화약품</td>\n",
       "      <td>KOSPI</td>\n",
       "      <td>20150116</td>\n",
       "      <td>5640.0</td>\n",
       "      <td>-110.0</td>\n",
       "      <td>-1.95</td>\n",
       "      <td>57341.0</td>\n",
       "      <td>732.0</td>\n",
       "      <td>1000</td>\n",
       "      <td>...</td>\n",
       "      <td>112.0</td>\n",
       "      <td>NaN</td>\n",
       "      <td>62744.0</td>\n",
       "      <td>3706.0</td>\n",
       "      <td>967.43</td>\n",
       "      <td>NaN</td>\n",
       "      <td>NaN</td>\n",
       "      <td>3066.0</td>\n",
       "      <td>NaN</td>\n",
       "      <td>N</td>\n",
       "    </tr>\n",
       "    <tr>\n",
       "      <th>3</th>\n",
       "      <td>000020</td>\n",
       "      <td>동화약품</td>\n",
       "      <td>KOSPI</td>\n",
       "      <td>20150119</td>\n",
       "      <td>5680.0</td>\n",
       "      <td>40.0</td>\n",
       "      <td>0.70</td>\n",
       "      <td>49574.0</td>\n",
       "      <td>732.0</td>\n",
       "      <td>1000</td>\n",
       "      <td>...</td>\n",
       "      <td>112.0</td>\n",
       "      <td>NaN</td>\n",
       "      <td>62744.0</td>\n",
       "      <td>3706.0</td>\n",
       "      <td>967.43</td>\n",
       "      <td>NaN</td>\n",
       "      <td>NaN</td>\n",
       "      <td>3066.0</td>\n",
       "      <td>NaN</td>\n",
       "      <td>N</td>\n",
       "    </tr>\n",
       "    <tr>\n",
       "      <th>4</th>\n",
       "      <td>000020</td>\n",
       "      <td>동화약품</td>\n",
       "      <td>KOSPI</td>\n",
       "      <td>20150122</td>\n",
       "      <td>5550.0</td>\n",
       "      <td>-60.0</td>\n",
       "      <td>-1.08</td>\n",
       "      <td>77386.0</td>\n",
       "      <td>732.0</td>\n",
       "      <td>1000</td>\n",
       "      <td>...</td>\n",
       "      <td>112.0</td>\n",
       "      <td>NaN</td>\n",
       "      <td>62744.0</td>\n",
       "      <td>3706.0</td>\n",
       "      <td>967.43</td>\n",
       "      <td>NaN</td>\n",
       "      <td>NaN</td>\n",
       "      <td>3066.0</td>\n",
       "      <td>NaN</td>\n",
       "      <td>N</td>\n",
       "    </tr>\n",
       "  </tbody>\n",
       "</table>\n",
       "<p>5 rows × 27 columns</p>\n",
       "</div>"
      ],
      "text/plain": [
       "  itemcode itemname market      date  close_val  change_val  change_rate  \\\n",
       "0   000020     동화약품  KOSPI  20150107     5540.0        70.0         1.26   \n",
       "1   000020     동화약품  KOSPI  20150113     5600.0        40.0         0.71   \n",
       "2   000020     동화약품  KOSPI  20150116     5640.0      -110.0        -1.95   \n",
       "3   000020     동화약품  KOSPI  20150119     5680.0        40.0         0.70   \n",
       "4   000020     동화약품  KOSPI  20150122     5550.0       -60.0        -1.08   \n",
       "\n",
       "   acc_quant  debt_total  face_val      ...        operating_profit  \\\n",
       "0    42517.0       732.0      1000      ...                   112.0   \n",
       "1    39527.0       732.0      1000      ...                   112.0   \n",
       "2    57341.0       732.0      1000      ...                   112.0   \n",
       "3    49574.0       732.0      1000      ...                   112.0   \n",
       "4    77386.0       732.0      1000      ...                   112.0   \n",
       "\n",
       "   operating_profit_increasing_rate  prev_quant  property_total  \\\n",
       "0                               NaN     62744.0          3706.0   \n",
       "1                               NaN     62744.0          3706.0   \n",
       "2                               NaN     62744.0          3706.0   \n",
       "3                               NaN     62744.0          3706.0   \n",
       "4                               NaN     62744.0          3706.0   \n",
       "\n",
       "   reserve_ratio  roa  roe   sales  sales_increasing_rate  trade_stop_yn  \n",
       "0         967.43  NaN  NaN  3066.0                    NaN              N  \n",
       "1         967.43  NaN  NaN  3066.0                    NaN              N  \n",
       "2         967.43  NaN  NaN  3066.0                    NaN              N  \n",
       "3         967.43  NaN  NaN  3066.0                    NaN              N  \n",
       "4         967.43  NaN  NaN  3066.0                    NaN              N  \n",
       "\n",
       "[5 rows x 27 columns]"
      ]
     },
     "execution_count": 6,
     "metadata": {},
     "output_type": "execute_result"
    }
   ],
   "source": [
    "data.head()"
   ]
  },
  {
   "cell_type": "code",
   "execution_count": 12,
   "metadata": {},
   "outputs": [
    {
     "data": {
      "text/plain": [
       "(671018, 27)"
      ]
     },
     "execution_count": 12,
     "metadata": {},
     "output_type": "execute_result"
    }
   ],
   "source": [
    "data.shape"
   ]
  },
  {
   "cell_type": "code",
   "execution_count": 16,
   "metadata": {},
   "outputs": [
    {
     "data": {
      "text/html": [
       "<div>\n",
       "<style scoped>\n",
       "    .dataframe tbody tr th:only-of-type {\n",
       "        vertical-align: middle;\n",
       "    }\n",
       "\n",
       "    .dataframe tbody tr th {\n",
       "        vertical-align: top;\n",
       "    }\n",
       "\n",
       "    .dataframe thead th {\n",
       "        text-align: right;\n",
       "    }\n",
       "</style>\n",
       "<table border=\"1\" class=\"dataframe\">\n",
       "  <thead>\n",
       "    <tr style=\"text-align: right;\">\n",
       "      <th></th>\n",
       "      <th>itemcode</th>\n",
       "      <th>itemname</th>\n",
       "      <th>market</th>\n",
       "      <th>date</th>\n",
       "      <th>close_val</th>\n",
       "      <th>change_val</th>\n",
       "      <th>change_rate</th>\n",
       "      <th>acc_quant</th>\n",
       "      <th>debt_total</th>\n",
       "      <th>face_val</th>\n",
       "      <th>...</th>\n",
       "      <th>operating_profit</th>\n",
       "      <th>operating_profit_increasing_rate</th>\n",
       "      <th>prev_quant</th>\n",
       "      <th>property_total</th>\n",
       "      <th>reserve_ratio</th>\n",
       "      <th>roa</th>\n",
       "      <th>roe</th>\n",
       "      <th>sales</th>\n",
       "      <th>sales_increasing_rate</th>\n",
       "      <th>trade_stop_yn</th>\n",
       "    </tr>\n",
       "  </thead>\n",
       "  <tbody>\n",
       "    <tr>\n",
       "      <th>671013</th>\n",
       "      <td>310870</td>\n",
       "      <td>한국제8호스팩</td>\n",
       "      <td>KOSDAQ</td>\n",
       "      <td>20181220</td>\n",
       "      <td>2005.0</td>\n",
       "      <td>NaN</td>\n",
       "      <td>NaN</td>\n",
       "      <td>670051.0</td>\n",
       "      <td>5.0</td>\n",
       "      <td>100</td>\n",
       "      <td>...</td>\n",
       "      <td>NaN</td>\n",
       "      <td>NaN</td>\n",
       "      <td>909.0</td>\n",
       "      <td>69.0</td>\n",
       "      <td>1756.76</td>\n",
       "      <td>NaN</td>\n",
       "      <td>NaN</td>\n",
       "      <td>NaN</td>\n",
       "      <td>NaN</td>\n",
       "      <td>N</td>\n",
       "    </tr>\n",
       "    <tr>\n",
       "      <th>671014</th>\n",
       "      <td>310870</td>\n",
       "      <td>한국제8호스팩</td>\n",
       "      <td>KOSDAQ</td>\n",
       "      <td>20181226</td>\n",
       "      <td>2010.0</td>\n",
       "      <td>-10.0</td>\n",
       "      <td>-0.50</td>\n",
       "      <td>48955.0</td>\n",
       "      <td>5.0</td>\n",
       "      <td>100</td>\n",
       "      <td>...</td>\n",
       "      <td>NaN</td>\n",
       "      <td>NaN</td>\n",
       "      <td>909.0</td>\n",
       "      <td>69.0</td>\n",
       "      <td>1756.76</td>\n",
       "      <td>NaN</td>\n",
       "      <td>NaN</td>\n",
       "      <td>NaN</td>\n",
       "      <td>NaN</td>\n",
       "      <td>N</td>\n",
       "    </tr>\n",
       "    <tr>\n",
       "      <th>671015</th>\n",
       "      <td>311270</td>\n",
       "      <td>키움제5호스팩</td>\n",
       "      <td>KOSDAQ</td>\n",
       "      <td>20181226</td>\n",
       "      <td>2010.0</td>\n",
       "      <td>10.0</td>\n",
       "      <td>0.50</td>\n",
       "      <td>155753.0</td>\n",
       "      <td>8.0</td>\n",
       "      <td>100</td>\n",
       "      <td>...</td>\n",
       "      <td>-1.0</td>\n",
       "      <td>NaN</td>\n",
       "      <td>1384.0</td>\n",
       "      <td>79.0</td>\n",
       "      <td>1873.30</td>\n",
       "      <td>NaN</td>\n",
       "      <td>NaN</td>\n",
       "      <td>NaN</td>\n",
       "      <td>NaN</td>\n",
       "      <td>N</td>\n",
       "    </tr>\n",
       "    <tr>\n",
       "      <th>671016</th>\n",
       "      <td>311840</td>\n",
       "      <td>대원모방</td>\n",
       "      <td>KONEX</td>\n",
       "      <td>20181226</td>\n",
       "      <td>NaN</td>\n",
       "      <td>NaN</td>\n",
       "      <td>NaN</td>\n",
       "      <td>NaN</td>\n",
       "      <td>NaN</td>\n",
       "      <td>500</td>\n",
       "      <td>...</td>\n",
       "      <td>NaN</td>\n",
       "      <td>NaN</td>\n",
       "      <td>NaN</td>\n",
       "      <td>NaN</td>\n",
       "      <td>NaN</td>\n",
       "      <td>NaN</td>\n",
       "      <td>NaN</td>\n",
       "      <td>NaN</td>\n",
       "      <td>NaN</td>\n",
       "      <td>N</td>\n",
       "    </tr>\n",
       "    <tr>\n",
       "      <th>671017</th>\n",
       "      <td>314130</td>\n",
       "      <td>지놈앤컴퍼니</td>\n",
       "      <td>KONEX</td>\n",
       "      <td>20181226</td>\n",
       "      <td>9330.0</td>\n",
       "      <td>1210.0</td>\n",
       "      <td>12.97</td>\n",
       "      <td>530.0</td>\n",
       "      <td>NaN</td>\n",
       "      <td>500</td>\n",
       "      <td>...</td>\n",
       "      <td>NaN</td>\n",
       "      <td>NaN</td>\n",
       "      <td>241.0</td>\n",
       "      <td>NaN</td>\n",
       "      <td>NaN</td>\n",
       "      <td>NaN</td>\n",
       "      <td>NaN</td>\n",
       "      <td>NaN</td>\n",
       "      <td>NaN</td>\n",
       "      <td>N</td>\n",
       "    </tr>\n",
       "  </tbody>\n",
       "</table>\n",
       "<p>5 rows × 27 columns</p>\n",
       "</div>"
      ],
      "text/plain": [
       "       itemcode itemname  market      date  close_val  change_val  \\\n",
       "671013   310870  한국제8호스팩  KOSDAQ  20181220     2005.0         NaN   \n",
       "671014   310870  한국제8호스팩  KOSDAQ  20181226     2010.0       -10.0   \n",
       "671015   311270  키움제5호스팩  KOSDAQ  20181226     2010.0        10.0   \n",
       "671016   311840     대원모방   KONEX  20181226        NaN         NaN   \n",
       "671017   314130   지놈앤컴퍼니   KONEX  20181226     9330.0      1210.0   \n",
       "\n",
       "        change_rate  acc_quant  debt_total  face_val      ...        \\\n",
       "671013          NaN   670051.0         5.0       100      ...         \n",
       "671014        -0.50    48955.0         5.0       100      ...         \n",
       "671015         0.50   155753.0         8.0       100      ...         \n",
       "671016          NaN        NaN         NaN       500      ...         \n",
       "671017        12.97      530.0         NaN       500      ...         \n",
       "\n",
       "        operating_profit  operating_profit_increasing_rate  prev_quant  \\\n",
       "671013               NaN                               NaN       909.0   \n",
       "671014               NaN                               NaN       909.0   \n",
       "671015              -1.0                               NaN      1384.0   \n",
       "671016               NaN                               NaN         NaN   \n",
       "671017               NaN                               NaN       241.0   \n",
       "\n",
       "        property_total  reserve_ratio  roa  roe  sales  sales_increasing_rate  \\\n",
       "671013            69.0        1756.76  NaN  NaN    NaN                    NaN   \n",
       "671014            69.0        1756.76  NaN  NaN    NaN                    NaN   \n",
       "671015            79.0        1873.30  NaN  NaN    NaN                    NaN   \n",
       "671016             NaN            NaN  NaN  NaN    NaN                    NaN   \n",
       "671017             NaN            NaN  NaN  NaN    NaN                    NaN   \n",
       "\n",
       "        trade_stop_yn  \n",
       "671013              N  \n",
       "671014              N  \n",
       "671015              N  \n",
       "671016              N  \n",
       "671017              N  \n",
       "\n",
       "[5 rows x 27 columns]"
      ]
     },
     "execution_count": 16,
     "metadata": {},
     "output_type": "execute_result"
    }
   ],
   "source": [
    "data.tail()"
   ]
  },
  {
   "cell_type": "code",
   "execution_count": 67,
   "metadata": {},
   "outputs": [
    {
     "data": {
      "text/html": [
       "<div>\n",
       "<style scoped>\n",
       "    .dataframe tbody tr th:only-of-type {\n",
       "        vertical-align: middle;\n",
       "    }\n",
       "\n",
       "    .dataframe tbody tr th {\n",
       "        vertical-align: top;\n",
       "    }\n",
       "\n",
       "    .dataframe thead th {\n",
       "        text-align: right;\n",
       "    }\n",
       "</style>\n",
       "<table border=\"1\" class=\"dataframe\">\n",
       "  <thead>\n",
       "    <tr style=\"text-align: right;\">\n",
       "      <th></th>\n",
       "      <th>itemcode</th>\n",
       "      <th>itemname</th>\n",
       "      <th>market</th>\n",
       "      <th>date</th>\n",
       "      <th>close_val</th>\n",
       "      <th>change_val</th>\n",
       "      <th>change_rate</th>\n",
       "      <th>acc_quant</th>\n",
       "      <th>debt_total</th>\n",
       "      <th>face_val</th>\n",
       "      <th>...</th>\n",
       "      <th>operating_profit</th>\n",
       "      <th>operating_profit_increasing_rate</th>\n",
       "      <th>prev_quant</th>\n",
       "      <th>property_total</th>\n",
       "      <th>reserve_ratio</th>\n",
       "      <th>roa</th>\n",
       "      <th>roe</th>\n",
       "      <th>sales</th>\n",
       "      <th>sales_increasing_rate</th>\n",
       "      <th>trade_stop_yn</th>\n",
       "    </tr>\n",
       "  </thead>\n",
       "  <tbody>\n",
       "    <tr>\n",
       "      <th>0</th>\n",
       "      <td>000020</td>\n",
       "      <td>동화약품</td>\n",
       "      <td>KOSPI</td>\n",
       "      <td>20150107</td>\n",
       "      <td>5540.0</td>\n",
       "      <td>70.0</td>\n",
       "      <td>1.26</td>\n",
       "      <td>42517.0</td>\n",
       "      <td>732.0</td>\n",
       "      <td>1000</td>\n",
       "      <td>...</td>\n",
       "      <td>112.0</td>\n",
       "      <td>NaN</td>\n",
       "      <td>62744.0</td>\n",
       "      <td>3706.0</td>\n",
       "      <td>967.43</td>\n",
       "      <td>NaN</td>\n",
       "      <td>NaN</td>\n",
       "      <td>3066.0</td>\n",
       "      <td>NaN</td>\n",
       "      <td>N</td>\n",
       "    </tr>\n",
       "    <tr>\n",
       "      <th>1</th>\n",
       "      <td>000020</td>\n",
       "      <td>동화약품</td>\n",
       "      <td>KOSPI</td>\n",
       "      <td>20150113</td>\n",
       "      <td>5600.0</td>\n",
       "      <td>40.0</td>\n",
       "      <td>0.71</td>\n",
       "      <td>39527.0</td>\n",
       "      <td>732.0</td>\n",
       "      <td>1000</td>\n",
       "      <td>...</td>\n",
       "      <td>112.0</td>\n",
       "      <td>NaN</td>\n",
       "      <td>62744.0</td>\n",
       "      <td>3706.0</td>\n",
       "      <td>967.43</td>\n",
       "      <td>NaN</td>\n",
       "      <td>NaN</td>\n",
       "      <td>3066.0</td>\n",
       "      <td>NaN</td>\n",
       "      <td>N</td>\n",
       "    </tr>\n",
       "    <tr>\n",
       "      <th>2</th>\n",
       "      <td>000020</td>\n",
       "      <td>동화약품</td>\n",
       "      <td>KOSPI</td>\n",
       "      <td>20150116</td>\n",
       "      <td>5640.0</td>\n",
       "      <td>-110.0</td>\n",
       "      <td>-1.95</td>\n",
       "      <td>57341.0</td>\n",
       "      <td>732.0</td>\n",
       "      <td>1000</td>\n",
       "      <td>...</td>\n",
       "      <td>112.0</td>\n",
       "      <td>NaN</td>\n",
       "      <td>62744.0</td>\n",
       "      <td>3706.0</td>\n",
       "      <td>967.43</td>\n",
       "      <td>NaN</td>\n",
       "      <td>NaN</td>\n",
       "      <td>3066.0</td>\n",
       "      <td>NaN</td>\n",
       "      <td>N</td>\n",
       "    </tr>\n",
       "    <tr>\n",
       "      <th>3</th>\n",
       "      <td>000020</td>\n",
       "      <td>동화약품</td>\n",
       "      <td>KOSPI</td>\n",
       "      <td>20150119</td>\n",
       "      <td>5680.0</td>\n",
       "      <td>40.0</td>\n",
       "      <td>0.70</td>\n",
       "      <td>49574.0</td>\n",
       "      <td>732.0</td>\n",
       "      <td>1000</td>\n",
       "      <td>...</td>\n",
       "      <td>112.0</td>\n",
       "      <td>NaN</td>\n",
       "      <td>62744.0</td>\n",
       "      <td>3706.0</td>\n",
       "      <td>967.43</td>\n",
       "      <td>NaN</td>\n",
       "      <td>NaN</td>\n",
       "      <td>3066.0</td>\n",
       "      <td>NaN</td>\n",
       "      <td>N</td>\n",
       "    </tr>\n",
       "    <tr>\n",
       "      <th>4</th>\n",
       "      <td>000020</td>\n",
       "      <td>동화약품</td>\n",
       "      <td>KOSPI</td>\n",
       "      <td>20150122</td>\n",
       "      <td>5550.0</td>\n",
       "      <td>-60.0</td>\n",
       "      <td>-1.08</td>\n",
       "      <td>77386.0</td>\n",
       "      <td>732.0</td>\n",
       "      <td>1000</td>\n",
       "      <td>...</td>\n",
       "      <td>112.0</td>\n",
       "      <td>NaN</td>\n",
       "      <td>62744.0</td>\n",
       "      <td>3706.0</td>\n",
       "      <td>967.43</td>\n",
       "      <td>NaN</td>\n",
       "      <td>NaN</td>\n",
       "      <td>3066.0</td>\n",
       "      <td>NaN</td>\n",
       "      <td>N</td>\n",
       "    </tr>\n",
       "  </tbody>\n",
       "</table>\n",
       "<p>5 rows × 27 columns</p>\n",
       "</div>"
      ],
      "text/plain": [
       "  itemcode itemname market      date  close_val  change_val  change_rate  \\\n",
       "0   000020     동화약품  KOSPI  20150107     5540.0        70.0         1.26   \n",
       "1   000020     동화약품  KOSPI  20150113     5600.0        40.0         0.71   \n",
       "2   000020     동화약품  KOSPI  20150116     5640.0      -110.0        -1.95   \n",
       "3   000020     동화약품  KOSPI  20150119     5680.0        40.0         0.70   \n",
       "4   000020     동화약품  KOSPI  20150122     5550.0       -60.0        -1.08   \n",
       "\n",
       "   acc_quant  debt_total  face_val      ...        operating_profit  \\\n",
       "0    42517.0       732.0      1000      ...                   112.0   \n",
       "1    39527.0       732.0      1000      ...                   112.0   \n",
       "2    57341.0       732.0      1000      ...                   112.0   \n",
       "3    49574.0       732.0      1000      ...                   112.0   \n",
       "4    77386.0       732.0      1000      ...                   112.0   \n",
       "\n",
       "   operating_profit_increasing_rate  prev_quant  property_total  \\\n",
       "0                               NaN     62744.0          3706.0   \n",
       "1                               NaN     62744.0          3706.0   \n",
       "2                               NaN     62744.0          3706.0   \n",
       "3                               NaN     62744.0          3706.0   \n",
       "4                               NaN     62744.0          3706.0   \n",
       "\n",
       "   reserve_ratio  roa  roe   sales  sales_increasing_rate  trade_stop_yn  \n",
       "0         967.43  NaN  NaN  3066.0                    NaN              N  \n",
       "1         967.43  NaN  NaN  3066.0                    NaN              N  \n",
       "2         967.43  NaN  NaN  3066.0                    NaN              N  \n",
       "3         967.43  NaN  NaN  3066.0                    NaN              N  \n",
       "4         967.43  NaN  NaN  3066.0                    NaN              N  \n",
       "\n",
       "[5 rows x 27 columns]"
      ]
     },
     "execution_count": 67,
     "metadata": {},
     "output_type": "execute_result"
    }
   ],
   "source": [
    "data.head()"
   ]
  },
  {
   "cell_type": "markdown",
   "metadata": {},
   "source": [
    "한 종목당 323개의 행을 가짐"
   ]
  },
  {
   "cell_type": "code",
   "execution_count": 78,
   "metadata": {},
   "outputs": [
    {
     "data": {
      "text/plain": [
       "(323, 27)"
      ]
     },
     "execution_count": 78,
     "metadata": {},
     "output_type": "execute_result"
    }
   ],
   "source": [
    "df1.shape"
   ]
  },
  {
   "cell_type": "code",
   "execution_count": 2,
   "metadata": {},
   "outputs": [],
   "source": [
    "import matplotlib.pyplot as plt"
   ]
  },
  {
   "cell_type": "code",
   "execution_count": 55,
   "metadata": {},
   "outputs": [
    {
     "data": {
      "text/plain": [
       "itemcode                              000050\n",
       "itemname                                  경방\n",
       "market                                 KOSPI\n",
       "date                                20180227\n",
       "close_val                              14400\n",
       "change_val                              -200\n",
       "change_rate                            -1.39\n",
       "acc_quant                              28994\n",
       "debt_total                              5930\n",
       "face_val                                 500\n",
       "frgn_hold_ratio                         2.38\n",
       "high_val                               14650\n",
       "listed_stock                           27415\n",
       "low_val                                14200\n",
       "market_sum                              3947\n",
       "net_income                               202\n",
       "open_val                               14550\n",
       "operating_profit                         410\n",
       "operating_profit_increasing_rate       -3.14\n",
       "prev_quant                             19226\n",
       "property_total                         13018\n",
       "reserve_ratio                        5130.13\n",
       "roa                                     1.57\n",
       "roe                                     2.87\n",
       "sales                                   3514\n",
       "sales_increasing_rate                  -2.59\n",
       "trade_stop_yn                              N\n",
       "Name: 900, dtype: object"
      ]
     },
     "execution_count": 55,
     "metadata": {},
     "output_type": "execute_result"
    }
   ],
   "source": [
    "data.loc[900]"
   ]
  },
  {
   "cell_type": "code",
   "execution_count": 3,
   "metadata": {},
   "outputs": [],
   "source": [
    "data2 = []\n",
    "for x, y in enumerate(data[\"change_rate\"]) :\n",
    "    if(y > 20 and data.loc[x][26] != 'Y') :   \n",
    "        data2.append(data.loc[x])"
   ]
  },
  {
   "cell_type": "code",
   "execution_count": 4,
   "metadata": {},
   "outputs": [],
   "source": [
    "data2 = pd.DataFrame(data2)\n"
   ]
  },
  {
   "cell_type": "code",
   "execution_count": 96,
   "metadata": {},
   "outputs": [
    {
     "data": {
      "text/html": [
       "<div>\n",
       "<style scoped>\n",
       "    .dataframe tbody tr th:only-of-type {\n",
       "        vertical-align: middle;\n",
       "    }\n",
       "\n",
       "    .dataframe tbody tr th {\n",
       "        vertical-align: top;\n",
       "    }\n",
       "\n",
       "    .dataframe thead th {\n",
       "        text-align: right;\n",
       "    }\n",
       "</style>\n",
       "<table border=\"1\" class=\"dataframe\">\n",
       "  <thead>\n",
       "    <tr style=\"text-align: right;\">\n",
       "      <th></th>\n",
       "      <th>itemcode</th>\n",
       "      <th>itemname</th>\n",
       "      <th>market</th>\n",
       "      <th>date</th>\n",
       "      <th>close_val</th>\n",
       "      <th>change_val</th>\n",
       "      <th>change_rate</th>\n",
       "      <th>acc_quant</th>\n",
       "      <th>debt_total</th>\n",
       "      <th>face_val</th>\n",
       "      <th>...</th>\n",
       "      <th>operating_profit</th>\n",
       "      <th>operating_profit_increasing_rate</th>\n",
       "      <th>prev_quant</th>\n",
       "      <th>property_total</th>\n",
       "      <th>reserve_ratio</th>\n",
       "      <th>roa</th>\n",
       "      <th>roe</th>\n",
       "      <th>sales</th>\n",
       "      <th>sales_increasing_rate</th>\n",
       "      <th>trade_stop_yn</th>\n",
       "    </tr>\n",
       "  </thead>\n",
       "  <tbody>\n",
       "    <tr>\n",
       "      <th>403</th>\n",
       "      <td>000040</td>\n",
       "      <td>KR모터스</td>\n",
       "      <td>KOSPI</td>\n",
       "      <td>20151217</td>\n",
       "      <td>1245.0</td>\n",
       "      <td>287.0</td>\n",
       "      <td>23.05</td>\n",
       "      <td>9209824.0</td>\n",
       "      <td>850.0</td>\n",
       "      <td>500</td>\n",
       "      <td>...</td>\n",
       "      <td>-163.0</td>\n",
       "      <td>37.55</td>\n",
       "      <td>188797.0</td>\n",
       "      <td>1549.0</td>\n",
       "      <td>-35.08</td>\n",
       "      <td>-18.56</td>\n",
       "      <td>-49.31</td>\n",
       "      <td>366.0</td>\n",
       "      <td>-12.24</td>\n",
       "      <td>N</td>\n",
       "    </tr>\n",
       "    <tr>\n",
       "      <th>4916</th>\n",
       "      <td>000157</td>\n",
       "      <td>두산2우B</td>\n",
       "      <td>KOSPI</td>\n",
       "      <td>20151112</td>\n",
       "      <td>114500.0</td>\n",
       "      <td>26100.0</td>\n",
       "      <td>22.79</td>\n",
       "      <td>42041.0</td>\n",
       "      <td>NaN</td>\n",
       "      <td>5000</td>\n",
       "      <td>...</td>\n",
       "      <td>NaN</td>\n",
       "      <td>NaN</td>\n",
       "      <td>68.0</td>\n",
       "      <td>NaN</td>\n",
       "      <td>NaN</td>\n",
       "      <td>NaN</td>\n",
       "      <td>NaN</td>\n",
       "      <td>NaN</td>\n",
       "      <td>NaN</td>\n",
       "      <td>N</td>\n",
       "    </tr>\n",
       "    <tr>\n",
       "      <th>6819</th>\n",
       "      <td>000227</td>\n",
       "      <td>유유제약2우B</td>\n",
       "      <td>KOSPI</td>\n",
       "      <td>20150617</td>\n",
       "      <td>13750.0</td>\n",
       "      <td>3150.0</td>\n",
       "      <td>22.91</td>\n",
       "      <td>105210.0</td>\n",
       "      <td>NaN</td>\n",
       "      <td>1000</td>\n",
       "      <td>...</td>\n",
       "      <td>NaN</td>\n",
       "      <td>NaN</td>\n",
       "      <td>40961.0</td>\n",
       "      <td>NaN</td>\n",
       "      <td>NaN</td>\n",
       "      <td>NaN</td>\n",
       "      <td>NaN</td>\n",
       "      <td>NaN</td>\n",
       "      <td>NaN</td>\n",
       "      <td>N</td>\n",
       "    </tr>\n",
       "    <tr>\n",
       "      <th>6996</th>\n",
       "      <td>000227</td>\n",
       "      <td>유유제약2우B</td>\n",
       "      <td>KOSPI</td>\n",
       "      <td>20170810</td>\n",
       "      <td>20800.0</td>\n",
       "      <td>4800.0</td>\n",
       "      <td>23.08</td>\n",
       "      <td>69545.0</td>\n",
       "      <td>NaN</td>\n",
       "      <td>1000</td>\n",
       "      <td>...</td>\n",
       "      <td>NaN</td>\n",
       "      <td>NaN</td>\n",
       "      <td>40961.0</td>\n",
       "      <td>NaN</td>\n",
       "      <td>NaN</td>\n",
       "      <td>NaN</td>\n",
       "      <td>NaN</td>\n",
       "      <td>NaN</td>\n",
       "      <td>NaN</td>\n",
       "      <td>N</td>\n",
       "    </tr>\n",
       "    <tr>\n",
       "      <th>9080</th>\n",
       "      <td>000325</td>\n",
       "      <td>노루홀딩스우</td>\n",
       "      <td>KOSPI</td>\n",
       "      <td>20150617</td>\n",
       "      <td>25800.0</td>\n",
       "      <td>5950.0</td>\n",
       "      <td>23.06</td>\n",
       "      <td>63412.0</td>\n",
       "      <td>NaN</td>\n",
       "      <td>500</td>\n",
       "      <td>...</td>\n",
       "      <td>NaN</td>\n",
       "      <td>NaN</td>\n",
       "      <td>34748.0</td>\n",
       "      <td>NaN</td>\n",
       "      <td>NaN</td>\n",
       "      <td>NaN</td>\n",
       "      <td>NaN</td>\n",
       "      <td>NaN</td>\n",
       "      <td>NaN</td>\n",
       "      <td>N</td>\n",
       "    </tr>\n",
       "  </tbody>\n",
       "</table>\n",
       "<p>5 rows × 27 columns</p>\n",
       "</div>"
      ],
      "text/plain": [
       "     itemcode itemname market      date  close_val  change_val  change_rate  \\\n",
       "403    000040    KR모터스  KOSPI  20151217     1245.0       287.0        23.05   \n",
       "4916   000157    두산2우B  KOSPI  20151112   114500.0     26100.0        22.79   \n",
       "6819   000227  유유제약2우B  KOSPI  20150617    13750.0      3150.0        22.91   \n",
       "6996   000227  유유제약2우B  KOSPI  20170810    20800.0      4800.0        23.08   \n",
       "9080   000325   노루홀딩스우  KOSPI  20150617    25800.0      5950.0        23.06   \n",
       "\n",
       "      acc_quant  debt_total  face_val      ...        operating_profit  \\\n",
       "403   9209824.0       850.0       500      ...                  -163.0   \n",
       "4916    42041.0         NaN      5000      ...                     NaN   \n",
       "6819   105210.0         NaN      1000      ...                     NaN   \n",
       "6996    69545.0         NaN      1000      ...                     NaN   \n",
       "9080    63412.0         NaN       500      ...                     NaN   \n",
       "\n",
       "      operating_profit_increasing_rate  prev_quant  property_total  \\\n",
       "403                              37.55    188797.0          1549.0   \n",
       "4916                               NaN        68.0             NaN   \n",
       "6819                               NaN     40961.0             NaN   \n",
       "6996                               NaN     40961.0             NaN   \n",
       "9080                               NaN     34748.0             NaN   \n",
       "\n",
       "      reserve_ratio    roa    roe  sales  sales_increasing_rate  trade_stop_yn  \n",
       "403          -35.08 -18.56 -49.31  366.0                 -12.24              N  \n",
       "4916            NaN    NaN    NaN    NaN                    NaN              N  \n",
       "6819            NaN    NaN    NaN    NaN                    NaN              N  \n",
       "6996            NaN    NaN    NaN    NaN                    NaN              N  \n",
       "9080            NaN    NaN    NaN    NaN                    NaN              N  \n",
       "\n",
       "[5 rows x 27 columns]"
      ]
     },
     "execution_count": 96,
     "metadata": {},
     "output_type": "execute_result"
    }
   ],
   "source": [
    "data2.head()"
   ]
  },
  {
   "cell_type": "code",
   "execution_count": 5,
   "metadata": {},
   "outputs": [],
   "source": [
    "data2.sort_values(by=[\"change_rate\"], ascending=False, inplace = True)"
   ]
  },
  {
   "cell_type": "code",
   "execution_count": 37,
   "metadata": {},
   "outputs": [],
   "source": [
    "data.sort_values(by=[\"date\"], inplace = True)"
   ]
  },
  {
   "cell_type": "code",
   "execution_count": 38,
   "metadata": {},
   "outputs": [
    {
     "data": {
      "text/html": [
       "<div>\n",
       "<style scoped>\n",
       "    .dataframe tbody tr th:only-of-type {\n",
       "        vertical-align: middle;\n",
       "    }\n",
       "\n",
       "    .dataframe tbody tr th {\n",
       "        vertical-align: top;\n",
       "    }\n",
       "\n",
       "    .dataframe thead th {\n",
       "        text-align: right;\n",
       "    }\n",
       "</style>\n",
       "<table border=\"1\" class=\"dataframe\">\n",
       "  <thead>\n",
       "    <tr style=\"text-align: right;\">\n",
       "      <th></th>\n",
       "      <th>itemcode</th>\n",
       "      <th>itemname</th>\n",
       "      <th>market</th>\n",
       "      <th>date</th>\n",
       "      <th>close_val</th>\n",
       "      <th>change_val</th>\n",
       "      <th>change_rate</th>\n",
       "      <th>acc_quant</th>\n",
       "      <th>debt_total</th>\n",
       "      <th>face_val</th>\n",
       "      <th>...</th>\n",
       "      <th>operating_profit</th>\n",
       "      <th>operating_profit_increasing_rate</th>\n",
       "      <th>prev_quant</th>\n",
       "      <th>property_total</th>\n",
       "      <th>reserve_ratio</th>\n",
       "      <th>roa</th>\n",
       "      <th>roe</th>\n",
       "      <th>sales</th>\n",
       "      <th>sales_increasing_rate</th>\n",
       "      <th>trade_stop_yn</th>\n",
       "    </tr>\n",
       "  </thead>\n",
       "  <tbody>\n",
       "    <tr>\n",
       "      <th>391401</th>\n",
       "      <td>65170</td>\n",
       "      <td>넥스트BT</td>\n",
       "      <td>KOSDAQ</td>\n",
       "      <td>20150107</td>\n",
       "      <td>1210.0</td>\n",
       "      <td>5.0</td>\n",
       "      <td>0.41</td>\n",
       "      <td>229024.0</td>\n",
       "      <td>323.0</td>\n",
       "      <td>500</td>\n",
       "      <td>...</td>\n",
       "      <td>21.0</td>\n",
       "      <td>-24.67</td>\n",
       "      <td>1026865.0</td>\n",
       "      <td>1039.0</td>\n",
       "      <td>104.98</td>\n",
       "      <td>1.39</td>\n",
       "      <td>3.25</td>\n",
       "      <td>877.0</td>\n",
       "      <td>4.75</td>\n",
       "      <td>N</td>\n",
       "    </tr>\n",
       "    <tr>\n",
       "      <th>164707</th>\n",
       "      <td>11780</td>\n",
       "      <td>금호석유</td>\n",
       "      <td>KOSPI</td>\n",
       "      <td>20150107</td>\n",
       "      <td>83300.0</td>\n",
       "      <td>2300.0</td>\n",
       "      <td>2.76</td>\n",
       "      <td>230668.0</td>\n",
       "      <td>22686.0</td>\n",
       "      <td>5000</td>\n",
       "      <td>...</td>\n",
       "      <td>5546.0</td>\n",
       "      <td>111.19</td>\n",
       "      <td>119013.0</td>\n",
       "      <td>46167.0</td>\n",
       "      <td>1362.22</td>\n",
       "      <td>10.94</td>\n",
       "      <td>23.45</td>\n",
       "      <td>55849.0</td>\n",
       "      <td>10.27</td>\n",
       "      <td>N</td>\n",
       "    </tr>\n",
       "    <tr>\n",
       "      <th>192404</th>\n",
       "      <td>16670</td>\n",
       "      <td>포비스티앤씨</td>\n",
       "      <td>KOSDAQ</td>\n",
       "      <td>20150107</td>\n",
       "      <td>2125.0</td>\n",
       "      <td>275.0</td>\n",
       "      <td>12.94</td>\n",
       "      <td>7387225.0</td>\n",
       "      <td>331.0</td>\n",
       "      <td>500</td>\n",
       "      <td>...</td>\n",
       "      <td>19.0</td>\n",
       "      <td>39.25</td>\n",
       "      <td>2345866.0</td>\n",
       "      <td>926.0</td>\n",
       "      <td>241.90</td>\n",
       "      <td>2.22</td>\n",
       "      <td>3.31</td>\n",
       "      <td>156.0</td>\n",
       "      <td>-86.19</td>\n",
       "      <td>N</td>\n",
       "    </tr>\n",
       "    <tr>\n",
       "      <th>458787</th>\n",
       "      <td>85910</td>\n",
       "      <td>네오티스</td>\n",
       "      <td>KOSDAQ</td>\n",
       "      <td>20150107</td>\n",
       "      <td>4490.0</td>\n",
       "      <td>20.0</td>\n",
       "      <td>0.45</td>\n",
       "      <td>22554.0</td>\n",
       "      <td>421.0</td>\n",
       "      <td>500</td>\n",
       "      <td>...</td>\n",
       "      <td>47.0</td>\n",
       "      <td>43.69</td>\n",
       "      <td>10632.0</td>\n",
       "      <td>866.0</td>\n",
       "      <td>858.65</td>\n",
       "      <td>3.79</td>\n",
       "      <td>6.83</td>\n",
       "      <td>452.0</td>\n",
       "      <td>3.96</td>\n",
       "      <td>N</td>\n",
       "    </tr>\n",
       "    <tr>\n",
       "      <th>3553</th>\n",
       "      <td>000140</td>\n",
       "      <td>하이트진로홀딩스</td>\n",
       "      <td>KOSPI</td>\n",
       "      <td>20150107</td>\n",
       "      <td>11700.0</td>\n",
       "      <td>-50.0</td>\n",
       "      <td>-0.43</td>\n",
       "      <td>35239.0</td>\n",
       "      <td>28935.0</td>\n",
       "      <td>5000</td>\n",
       "      <td>...</td>\n",
       "      <td>1035.0</td>\n",
       "      <td>3.41</td>\n",
       "      <td>717601.0</td>\n",
       "      <td>39893.0</td>\n",
       "      <td>959.43</td>\n",
       "      <td>0.22</td>\n",
       "      <td>-0.55</td>\n",
       "      <td>18767.0</td>\n",
       "      <td>-0.24</td>\n",
       "      <td>N</td>\n",
       "    </tr>\n",
       "  </tbody>\n",
       "</table>\n",
       "<p>5 rows × 27 columns</p>\n",
       "</div>"
      ],
      "text/plain": [
       "       itemcode  itemname  market      date  close_val  change_val  \\\n",
       "391401    65170     넥스트BT  KOSDAQ  20150107     1210.0         5.0   \n",
       "164707    11780      금호석유   KOSPI  20150107    83300.0      2300.0   \n",
       "192404    16670    포비스티앤씨  KOSDAQ  20150107     2125.0       275.0   \n",
       "458787    85910      네오티스  KOSDAQ  20150107     4490.0        20.0   \n",
       "3553     000140  하이트진로홀딩스   KOSPI  20150107    11700.0       -50.0   \n",
       "\n",
       "        change_rate  acc_quant  debt_total  face_val      ...        \\\n",
       "391401         0.41   229024.0       323.0       500      ...         \n",
       "164707         2.76   230668.0     22686.0      5000      ...         \n",
       "192404        12.94  7387225.0       331.0       500      ...         \n",
       "458787         0.45    22554.0       421.0       500      ...         \n",
       "3553          -0.43    35239.0     28935.0      5000      ...         \n",
       "\n",
       "        operating_profit  operating_profit_increasing_rate  prev_quant  \\\n",
       "391401              21.0                            -24.67   1026865.0   \n",
       "164707            5546.0                            111.19    119013.0   \n",
       "192404              19.0                             39.25   2345866.0   \n",
       "458787              47.0                             43.69     10632.0   \n",
       "3553              1035.0                              3.41    717601.0   \n",
       "\n",
       "        property_total  reserve_ratio    roa    roe    sales  \\\n",
       "391401          1039.0         104.98   1.39   3.25    877.0   \n",
       "164707         46167.0        1362.22  10.94  23.45  55849.0   \n",
       "192404           926.0         241.90   2.22   3.31    156.0   \n",
       "458787           866.0         858.65   3.79   6.83    452.0   \n",
       "3553           39893.0         959.43   0.22  -0.55  18767.0   \n",
       "\n",
       "        sales_increasing_rate  trade_stop_yn  \n",
       "391401                   4.75              N  \n",
       "164707                  10.27              N  \n",
       "192404                 -86.19              N  \n",
       "458787                   3.96              N  \n",
       "3553                    -0.24              N  \n",
       "\n",
       "[5 rows x 27 columns]"
      ]
     },
     "execution_count": 38,
     "metadata": {},
     "output_type": "execute_result"
    }
   ],
   "source": [
    "data.head()"
   ]
  },
  {
   "cell_type": "code",
   "execution_count": 39,
   "metadata": {},
   "outputs": [],
   "source": [
    "df1=[]\n",
    "for i , j in enumerate(data[\"itemname\"]) :\n",
    "    if j ==  \"감마누\" :\n",
    "            df1.append(data.iloc[i])"
   ]
  },
  {
   "cell_type": "code",
   "execution_count": 40,
   "metadata": {},
   "outputs": [],
   "source": [
    "df2=[]\n",
    "for i , j in enumerate(data[\"itemname\"]) :\n",
    "    if j ==  \"이월드\":\n",
    "            df2.append(data.iloc[i])"
   ]
  },
  {
   "cell_type": "code",
   "execution_count": 41,
   "metadata": {},
   "outputs": [],
   "source": [
    "df3=[]\n",
    "for i , j in enumerate(data[\"itemname\"]) :\n",
    "    if j ==  \"썬텍\":\n",
    "            df3.append(data.iloc[i])"
   ]
  },
  {
   "cell_type": "code",
   "execution_count": 42,
   "metadata": {},
   "outputs": [],
   "source": [
    "df4=[]\n",
    "for i , j in enumerate(data[\"itemname\"]) :\n",
    "    if j ==  \"컨버즈\":\n",
    "            df4.append(data.iloc[i])"
   ]
  },
  {
   "cell_type": "code",
   "execution_count": 43,
   "metadata": {},
   "outputs": [],
   "source": [
    "df5=[]\n",
    "for i , j in enumerate(data[\"itemname\"]) :\n",
    "    if j ==  \"코이즈\" :\n",
    "            df5.append(data.iloc[i])"
   ]
  },
  {
   "cell_type": "code",
   "execution_count": 44,
   "metadata": {},
   "outputs": [],
   "source": [
    "df6=[]\n",
    "for i , j in enumerate(data[\"itemname\"]) :\n",
    "    if j ==  \"삼양통상\":\n",
    "            df6.append(data.iloc[i])"
   ]
  },
  {
   "cell_type": "code",
   "execution_count": 13,
   "metadata": {},
   "outputs": [
    {
     "data": {
      "text/html": [
       "<div>\n",
       "<style scoped>\n",
       "    .dataframe tbody tr th:only-of-type {\n",
       "        vertical-align: middle;\n",
       "    }\n",
       "\n",
       "    .dataframe tbody tr th {\n",
       "        vertical-align: top;\n",
       "    }\n",
       "\n",
       "    .dataframe thead th {\n",
       "        text-align: right;\n",
       "    }\n",
       "</style>\n",
       "<table border=\"1\" class=\"dataframe\">\n",
       "  <thead>\n",
       "    <tr style=\"text-align: right;\">\n",
       "      <th></th>\n",
       "      <th>itemcode</th>\n",
       "      <th>itemname</th>\n",
       "      <th>market</th>\n",
       "      <th>date</th>\n",
       "      <th>close_val</th>\n",
       "      <th>change_val</th>\n",
       "      <th>change_rate</th>\n",
       "      <th>acc_quant</th>\n",
       "      <th>debt_total</th>\n",
       "      <th>face_val</th>\n",
       "      <th>...</th>\n",
       "      <th>operating_profit</th>\n",
       "      <th>operating_profit_increasing_rate</th>\n",
       "      <th>prev_quant</th>\n",
       "      <th>property_total</th>\n",
       "      <th>reserve_ratio</th>\n",
       "      <th>roa</th>\n",
       "      <th>roe</th>\n",
       "      <th>sales</th>\n",
       "      <th>sales_increasing_rate</th>\n",
       "      <th>trade_stop_yn</th>\n",
       "    </tr>\n",
       "  </thead>\n",
       "  <tbody>\n",
       "    <tr>\n",
       "      <th>43512</th>\n",
       "      <td>2170</td>\n",
       "      <td>삼양통상</td>\n",
       "      <td>KOSPI</td>\n",
       "      <td>20150821</td>\n",
       "      <td>53200.0</td>\n",
       "      <td>-22800.0</td>\n",
       "      <td>-42.86</td>\n",
       "      <td>1745095.0</td>\n",
       "      <td>347.0</td>\n",
       "      <td>5000</td>\n",
       "      <td>...</td>\n",
       "      <td>321.0</td>\n",
       "      <td>6.47</td>\n",
       "      <td>12818.0</td>\n",
       "      <td>3275.0</td>\n",
       "      <td>1866.08</td>\n",
       "      <td>7.93</td>\n",
       "      <td>8.96</td>\n",
       "      <td>1832.0</td>\n",
       "      <td>7.39</td>\n",
       "      <td>N</td>\n",
       "    </tr>\n",
       "    <tr>\n",
       "      <th>85606</th>\n",
       "      <td>004700</td>\n",
       "      <td>조광피혁</td>\n",
       "      <td>KOSPI</td>\n",
       "      <td>20150821</td>\n",
       "      <td>58100.0</td>\n",
       "      <td>-24900.0</td>\n",
       "      <td>-42.86</td>\n",
       "      <td>1096188.0</td>\n",
       "      <td>133.0</td>\n",
       "      <td>5000</td>\n",
       "      <td>...</td>\n",
       "      <td>150.0</td>\n",
       "      <td>-39.01</td>\n",
       "      <td>2125.0</td>\n",
       "      <td>2506.0</td>\n",
       "      <td>610.88</td>\n",
       "      <td>5.51</td>\n",
       "      <td>5.90</td>\n",
       "      <td>1277.0</td>\n",
       "      <td>-26.75</td>\n",
       "      <td>N</td>\n",
       "    </tr>\n",
       "    <tr>\n",
       "      <th>509100</th>\n",
       "      <td>101680</td>\n",
       "      <td>한국정밀기계</td>\n",
       "      <td>KOSDAQ</td>\n",
       "      <td>20170816</td>\n",
       "      <td>2450.0</td>\n",
       "      <td>-1050.0</td>\n",
       "      <td>-42.86</td>\n",
       "      <td>870558.0</td>\n",
       "      <td>331.0</td>\n",
       "      <td>500</td>\n",
       "      <td>...</td>\n",
       "      <td>-150.0</td>\n",
       "      <td>-8.52</td>\n",
       "      <td>NaN</td>\n",
       "      <td>906.0</td>\n",
       "      <td>1313.73</td>\n",
       "      <td>-18.21</td>\n",
       "      <td>-26.89</td>\n",
       "      <td>429.0</td>\n",
       "      <td>-4.05</td>\n",
       "      <td>N</td>\n",
       "    </tr>\n",
       "    <tr>\n",
       "      <th>568536</th>\n",
       "      <td>141070</td>\n",
       "      <td>맥스로텍</td>\n",
       "      <td>KOSDAQ</td>\n",
       "      <td>20161018</td>\n",
       "      <td>2485.0</td>\n",
       "      <td>-1065.0</td>\n",
       "      <td>-42.86</td>\n",
       "      <td>7663502.0</td>\n",
       "      <td>549.0</td>\n",
       "      <td>500</td>\n",
       "      <td>...</td>\n",
       "      <td>37.0</td>\n",
       "      <td>194.60</td>\n",
       "      <td>237702.0</td>\n",
       "      <td>901.0</td>\n",
       "      <td>153.79</td>\n",
       "      <td>2.25</td>\n",
       "      <td>5.66</td>\n",
       "      <td>596.0</td>\n",
       "      <td>54.14</td>\n",
       "      <td>N</td>\n",
       "    </tr>\n",
       "    <tr>\n",
       "      <th>523254</th>\n",
       "      <td>109740</td>\n",
       "      <td>디에스케이</td>\n",
       "      <td>KOSDAQ</td>\n",
       "      <td>20180323</td>\n",
       "      <td>6580.0</td>\n",
       "      <td>-2820.0</td>\n",
       "      <td>-42.86</td>\n",
       "      <td>4438612.0</td>\n",
       "      <td>578.0</td>\n",
       "      <td>500</td>\n",
       "      <td>...</td>\n",
       "      <td>223.0</td>\n",
       "      <td>64.78</td>\n",
       "      <td>156688.0</td>\n",
       "      <td>1645.0</td>\n",
       "      <td>942.54</td>\n",
       "      <td>10.39</td>\n",
       "      <td>21.27</td>\n",
       "      <td>1179.0</td>\n",
       "      <td>14.15</td>\n",
       "      <td>N</td>\n",
       "    </tr>\n",
       "  </tbody>\n",
       "</table>\n",
       "<p>5 rows × 27 columns</p>\n",
       "</div>"
      ],
      "text/plain": [
       "       itemcode itemname  market      date  close_val  change_val  \\\n",
       "43512      2170     삼양통상   KOSPI  20150821    53200.0    -22800.0   \n",
       "85606    004700     조광피혁   KOSPI  20150821    58100.0    -24900.0   \n",
       "509100   101680   한국정밀기계  KOSDAQ  20170816     2450.0     -1050.0   \n",
       "568536   141070     맥스로텍  KOSDAQ  20161018     2485.0     -1065.0   \n",
       "523254   109740    디에스케이  KOSDAQ  20180323     6580.0     -2820.0   \n",
       "\n",
       "        change_rate  acc_quant  debt_total  face_val      ...        \\\n",
       "43512        -42.86  1745095.0       347.0      5000      ...         \n",
       "85606        -42.86  1096188.0       133.0      5000      ...         \n",
       "509100       -42.86   870558.0       331.0       500      ...         \n",
       "568536       -42.86  7663502.0       549.0       500      ...         \n",
       "523254       -42.86  4438612.0       578.0       500      ...         \n",
       "\n",
       "        operating_profit  operating_profit_increasing_rate  prev_quant  \\\n",
       "43512              321.0                              6.47     12818.0   \n",
       "85606              150.0                            -39.01      2125.0   \n",
       "509100            -150.0                             -8.52         NaN   \n",
       "568536              37.0                            194.60    237702.0   \n",
       "523254             223.0                             64.78    156688.0   \n",
       "\n",
       "        property_total  reserve_ratio    roa    roe   sales  \\\n",
       "43512           3275.0        1866.08   7.93   8.96  1832.0   \n",
       "85606           2506.0         610.88   5.51   5.90  1277.0   \n",
       "509100           906.0        1313.73 -18.21 -26.89   429.0   \n",
       "568536           901.0         153.79   2.25   5.66   596.0   \n",
       "523254          1645.0         942.54  10.39  21.27  1179.0   \n",
       "\n",
       "        sales_increasing_rate  trade_stop_yn  \n",
       "43512                    7.39              N  \n",
       "85606                  -26.75              N  \n",
       "509100                  -4.05              N  \n",
       "568536                  54.14              N  \n",
       "523254                  14.15              N  \n",
       "\n",
       "[5 rows x 27 columns]"
      ]
     },
     "execution_count": 13,
     "metadata": {},
     "output_type": "execute_result"
    }
   ],
   "source": [
    "data.head()"
   ]
  },
  {
   "cell_type": "code",
   "execution_count": 45,
   "metadata": {},
   "outputs": [],
   "source": [
    "df6 = pd.DataFrame(df6)"
   ]
  },
  {
   "cell_type": "code",
   "execution_count": 15,
   "metadata": {},
   "outputs": [
    {
     "ename": "AttributeError",
     "evalue": "'list' object has no attribute 'head'",
     "output_type": "error",
     "traceback": [
      "\u001b[1;31m---------------------------------------------------------------------------\u001b[0m",
      "\u001b[1;31mAttributeError\u001b[0m                            Traceback (most recent call last)",
      "\u001b[1;32m<ipython-input-15-eda2b5cc1a42>\u001b[0m in \u001b[0;36m<module>\u001b[1;34m()\u001b[0m\n\u001b[1;32m----> 1\u001b[1;33m \u001b[0mdf1\u001b[0m\u001b[1;33m.\u001b[0m\u001b[0mhead\u001b[0m\u001b[1;33m(\u001b[0m\u001b[1;33m)\u001b[0m\u001b[1;33m\u001b[0m\u001b[0m\n\u001b[0m",
      "\u001b[1;31mAttributeError\u001b[0m: 'list' object has no attribute 'head'"
     ]
    }
   ],
   "source": [
    "df1.head()"
   ]
  },
  {
   "cell_type": "code",
   "execution_count": 47,
   "metadata": {},
   "outputs": [],
   "source": [
    "df1 = pd.DataFrame(df1)\n",
    "df2 = pd.DataFrame(df2)\n",
    "df3 = pd.DataFrame(df3)\n",
    "df4 = pd.DataFrame(df4)\n",
    "df5 = pd.DataFrame(df5)"
   ]
  },
  {
   "cell_type": "code",
   "execution_count": 48,
   "metadata": {},
   "outputs": [
    {
     "data": {
      "text/html": [
       "<div>\n",
       "<style scoped>\n",
       "    .dataframe tbody tr th:only-of-type {\n",
       "        vertical-align: middle;\n",
       "    }\n",
       "\n",
       "    .dataframe tbody tr th {\n",
       "        vertical-align: top;\n",
       "    }\n",
       "\n",
       "    .dataframe thead th {\n",
       "        text-align: right;\n",
       "    }\n",
       "</style>\n",
       "<table border=\"1\" class=\"dataframe\">\n",
       "  <thead>\n",
       "    <tr style=\"text-align: right;\">\n",
       "      <th></th>\n",
       "      <th>itemcode</th>\n",
       "      <th>itemname</th>\n",
       "      <th>market</th>\n",
       "      <th>date</th>\n",
       "      <th>close_val</th>\n",
       "      <th>change_val</th>\n",
       "      <th>change_rate</th>\n",
       "      <th>acc_quant</th>\n",
       "      <th>debt_total</th>\n",
       "      <th>face_val</th>\n",
       "      <th>...</th>\n",
       "      <th>operating_profit</th>\n",
       "      <th>operating_profit_increasing_rate</th>\n",
       "      <th>prev_quant</th>\n",
       "      <th>property_total</th>\n",
       "      <th>reserve_ratio</th>\n",
       "      <th>roa</th>\n",
       "      <th>roe</th>\n",
       "      <th>sales</th>\n",
       "      <th>sales_increasing_rate</th>\n",
       "      <th>trade_stop_yn</th>\n",
       "    </tr>\n",
       "  </thead>\n",
       "  <tbody>\n",
       "    <tr>\n",
       "      <th>601759</th>\n",
       "      <td>192410</td>\n",
       "      <td>감마누</td>\n",
       "      <td>KOSDAQ</td>\n",
       "      <td>20150107</td>\n",
       "      <td>14500.0</td>\n",
       "      <td>600.0</td>\n",
       "      <td>4.14</td>\n",
       "      <td>20054.0</td>\n",
       "      <td>678.0</td>\n",
       "      <td>500</td>\n",
       "      <td>...</td>\n",
       "      <td>-36.0</td>\n",
       "      <td>-361.75</td>\n",
       "      <td>NaN</td>\n",
       "      <td>1127.0</td>\n",
       "      <td>120.44</td>\n",
       "      <td>-4.41</td>\n",
       "      <td>-17.49</td>\n",
       "      <td>330.0</td>\n",
       "      <td>-4.34</td>\n",
       "      <td>N</td>\n",
       "    </tr>\n",
       "    <tr>\n",
       "      <th>601760</th>\n",
       "      <td>192410</td>\n",
       "      <td>감마누</td>\n",
       "      <td>KOSDAQ</td>\n",
       "      <td>20150113</td>\n",
       "      <td>15150.0</td>\n",
       "      <td>-400.0</td>\n",
       "      <td>-2.64</td>\n",
       "      <td>19975.0</td>\n",
       "      <td>678.0</td>\n",
       "      <td>500</td>\n",
       "      <td>...</td>\n",
       "      <td>-36.0</td>\n",
       "      <td>-361.75</td>\n",
       "      <td>NaN</td>\n",
       "      <td>1127.0</td>\n",
       "      <td>120.44</td>\n",
       "      <td>-4.41</td>\n",
       "      <td>-17.49</td>\n",
       "      <td>330.0</td>\n",
       "      <td>-4.34</td>\n",
       "      <td>N</td>\n",
       "    </tr>\n",
       "    <tr>\n",
       "      <th>601761</th>\n",
       "      <td>192410</td>\n",
       "      <td>감마누</td>\n",
       "      <td>KOSDAQ</td>\n",
       "      <td>20150116</td>\n",
       "      <td>15250.0</td>\n",
       "      <td>-150.0</td>\n",
       "      <td>-0.98</td>\n",
       "      <td>18468.0</td>\n",
       "      <td>678.0</td>\n",
       "      <td>500</td>\n",
       "      <td>...</td>\n",
       "      <td>-36.0</td>\n",
       "      <td>-361.75</td>\n",
       "      <td>NaN</td>\n",
       "      <td>1127.0</td>\n",
       "      <td>120.44</td>\n",
       "      <td>-4.41</td>\n",
       "      <td>-17.49</td>\n",
       "      <td>330.0</td>\n",
       "      <td>-4.34</td>\n",
       "      <td>N</td>\n",
       "    </tr>\n",
       "    <tr>\n",
       "      <th>601762</th>\n",
       "      <td>192410</td>\n",
       "      <td>감마누</td>\n",
       "      <td>KOSDAQ</td>\n",
       "      <td>20150119</td>\n",
       "      <td>16100.0</td>\n",
       "      <td>850.0</td>\n",
       "      <td>5.28</td>\n",
       "      <td>85999.0</td>\n",
       "      <td>678.0</td>\n",
       "      <td>500</td>\n",
       "      <td>...</td>\n",
       "      <td>-36.0</td>\n",
       "      <td>-361.75</td>\n",
       "      <td>NaN</td>\n",
       "      <td>1127.0</td>\n",
       "      <td>120.44</td>\n",
       "      <td>-4.41</td>\n",
       "      <td>-17.49</td>\n",
       "      <td>330.0</td>\n",
       "      <td>-4.34</td>\n",
       "      <td>N</td>\n",
       "    </tr>\n",
       "    <tr>\n",
       "      <th>601763</th>\n",
       "      <td>192410</td>\n",
       "      <td>감마누</td>\n",
       "      <td>KOSDAQ</td>\n",
       "      <td>20150122</td>\n",
       "      <td>16750.0</td>\n",
       "      <td>-250.0</td>\n",
       "      <td>-1.49</td>\n",
       "      <td>36236.0</td>\n",
       "      <td>678.0</td>\n",
       "      <td>500</td>\n",
       "      <td>...</td>\n",
       "      <td>-36.0</td>\n",
       "      <td>-361.75</td>\n",
       "      <td>NaN</td>\n",
       "      <td>1127.0</td>\n",
       "      <td>120.44</td>\n",
       "      <td>-4.41</td>\n",
       "      <td>-17.49</td>\n",
       "      <td>330.0</td>\n",
       "      <td>-4.34</td>\n",
       "      <td>N</td>\n",
       "    </tr>\n",
       "  </tbody>\n",
       "</table>\n",
       "<p>5 rows × 27 columns</p>\n",
       "</div>"
      ],
      "text/plain": [
       "       itemcode itemname  market      date  close_val  change_val  \\\n",
       "601759   192410      감마누  KOSDAQ  20150107    14500.0       600.0   \n",
       "601760   192410      감마누  KOSDAQ  20150113    15150.0      -400.0   \n",
       "601761   192410      감마누  KOSDAQ  20150116    15250.0      -150.0   \n",
       "601762   192410      감마누  KOSDAQ  20150119    16100.0       850.0   \n",
       "601763   192410      감마누  KOSDAQ  20150122    16750.0      -250.0   \n",
       "\n",
       "        change_rate  acc_quant  debt_total  face_val      ...        \\\n",
       "601759         4.14    20054.0       678.0       500      ...         \n",
       "601760        -2.64    19975.0       678.0       500      ...         \n",
       "601761        -0.98    18468.0       678.0       500      ...         \n",
       "601762         5.28    85999.0       678.0       500      ...         \n",
       "601763        -1.49    36236.0       678.0       500      ...         \n",
       "\n",
       "        operating_profit  operating_profit_increasing_rate  prev_quant  \\\n",
       "601759             -36.0                           -361.75         NaN   \n",
       "601760             -36.0                           -361.75         NaN   \n",
       "601761             -36.0                           -361.75         NaN   \n",
       "601762             -36.0                           -361.75         NaN   \n",
       "601763             -36.0                           -361.75         NaN   \n",
       "\n",
       "        property_total  reserve_ratio   roa    roe  sales  \\\n",
       "601759          1127.0         120.44 -4.41 -17.49  330.0   \n",
       "601760          1127.0         120.44 -4.41 -17.49  330.0   \n",
       "601761          1127.0         120.44 -4.41 -17.49  330.0   \n",
       "601762          1127.0         120.44 -4.41 -17.49  330.0   \n",
       "601763          1127.0         120.44 -4.41 -17.49  330.0   \n",
       "\n",
       "        sales_increasing_rate  trade_stop_yn  \n",
       "601759                  -4.34              N  \n",
       "601760                  -4.34              N  \n",
       "601761                  -4.34              N  \n",
       "601762                  -4.34              N  \n",
       "601763                  -4.34              N  \n",
       "\n",
       "[5 rows x 27 columns]"
      ]
     },
     "execution_count": 48,
     "metadata": {},
     "output_type": "execute_result"
    }
   ],
   "source": [
    "df1.head()"
   ]
  },
  {
   "cell_type": "code",
   "execution_count": 49,
   "metadata": {},
   "outputs": [
    {
     "data": {
      "text/plain": [
       "(323, 27)"
      ]
     },
     "execution_count": 49,
     "metadata": {},
     "output_type": "execute_result"
    }
   ],
   "source": [
    "df1.shape"
   ]
  },
  {
   "cell_type": "code",
   "execution_count": 50,
   "metadata": {},
   "outputs": [],
   "source": [
    "import numpy as np"
   ]
  },
  {
   "cell_type": "code",
   "execution_count": 51,
   "metadata": {},
   "outputs": [],
   "source": [
    "xa =  np.arange(0.0, 5.0, 0.01)"
   ]
  },
  {
   "cell_type": "code",
   "execution_count": 52,
   "metadata": {},
   "outputs": [
    {
     "data": {
      "text/plain": [
       "601760    192410\n",
       "601761    192410\n",
       "601762    192410\n",
       "601763    192410\n",
       "Name: itemcode, dtype: object"
      ]
     },
     "execution_count": 52,
     "metadata": {},
     "output_type": "execute_result"
    }
   ],
   "source": [
    "df1.iloc[1:5, 0]"
   ]
  },
  {
   "cell_type": "code",
   "execution_count": 54,
   "metadata": {},
   "outputs": [
    {
     "data": {
      "text/plain": [
       "<matplotlib.axes._subplots.AxesSubplot at 0x1ef4c092978>"
      ]
     },
     "execution_count": 54,
     "metadata": {},
     "output_type": "execute_result"
    },
    {
     "data": {
      "image/png": "[encoded data removed]",
      "text/plain": [
       "<Figure size 432x288 with 1 Axes>"
      ]
     },
     "metadata": {},
     "output_type": "display_data"
    }
   ],
   "source": [
    "df1.iloc[:, 14].plot()"
   ]
  },
  {
   "cell_type": "code",
   "execution_count": 55,
   "metadata": {},
   "outputs": [
    {
     "data": {
      "text/plain": [
       "[<matplotlib.lines.Line2D at 0x1ef4cef5a20>]"
      ]
     },
     "execution_count": 55,
     "metadata": {},
     "output_type": "execute_result"
    },
    {
     "data": {
      "image/png": "[encoded data removed]",
      "text/plain": [
       "<Figure size 432x288 with 1 Axes>"
      ]
     },
     "metadata": {},
     "output_type": "display_data"
    }
   ],
   "source": [
    "plt.plot(df2.iloc[:,14])"
   ]
  },
  {
   "cell_type": "code",
   "execution_count": 56,
   "metadata": {},
   "outputs": [
    {
     "data": {
      "text/plain": [
       "[<matplotlib.lines.Line2D at 0x1ef4cf66e10>]"
      ]
     },
     "execution_count": 56,
     "metadata": {},
     "output_type": "execute_result"
    },
    {
     "data": {
      "image/png": "[encoded data removed]",
      "text/plain": [
       "<Figure size 432x288 with 1 Axes>"
      ]
     },
     "metadata": {},
     "output_type": "display_data"
    }
   ],
   "source": [
    "plt.plot(df3.iloc[:,14])"
   ]
  },
  {
   "cell_type": "code",
   "execution_count": 57,
   "metadata": {},
   "outputs": [
    {
     "data": {
      "text/plain": [
       "[<matplotlib.lines.Line2D at 0x1ef4d0810f0>]"
      ]
     },
     "execution_count": 57,
     "metadata": {},
     "output_type": "execute_result"
    },
    {
     "data": {
      "image/png": "[encoded data removed]",
      "text/plain": [
       "<Figure size 432x288 with 1 Axes>"
      ]
     },
     "metadata": {},
     "output_type": "display_data"
    }
   ],
   "source": [
    "plt.plot(df4.iloc[:,14])"
   ]
  },
  {
   "cell_type": "code",
   "execution_count": 58,
   "metadata": {},
   "outputs": [
    {
     "data": {
      "text/plain": [
       "[<matplotlib.lines.Line2D at 0x1ef4c129320>]"
      ]
     },
     "execution_count": 58,
     "metadata": {},
     "output_type": "execute_result"
    },
    {
     "data": {
      "image/png": "[encoded data removed]",
      "text/plain": [
       "<Figure size 432x288 with 1 Axes>"
      ]
     },
     "metadata": {},
     "output_type": "display_data"
    }
   ],
   "source": [
    "plt.plot(df5.iloc[:,16])"
   ]
  },
  {
   "cell_type": "code",
   "execution_count": 59,
   "metadata": {},
   "outputs": [],
   "source": [
    "df2_1=[]\n",
    "for i , j in enumerate(data2[\"itemname\"]) :\n",
    "    if j ==  \"감마누\" :\n",
    "            df2_1.append(data.loc[i])"
   ]
  },
  {
   "cell_type": "code",
   "execution_count": 60,
   "metadata": {},
   "outputs": [],
   "source": [
    "df = [1, 2, 3, 4, 5]\n",
    "df[0] = df1.loc[601930:601980]\n",
    "df[1] = df2.loc[454830:454860]\n",
    "df[2] = df3.loc[541430:541480]\n",
    "df[3] = df4.loc[522350:522400]\n",
    "df[4] = df5.loc[539550:539580]"
   ]
  },
  {
   "cell_type": "code",
   "execution_count": 61,
   "metadata": {},
   "outputs": [],
   "source": [
    "df3_1 = df3.loc[541400:541450]"
   ]
  },
  {
   "cell_type": "code",
   "execution_count": 62,
   "metadata": {},
   "outputs": [
    {
     "data": {
      "text/plain": [
       "[<matplotlib.lines.Line2D at 0x1ef4d050278>]"
      ]
     },
     "execution_count": 62,
     "metadata": {},
     "output_type": "execute_result"
    },
    {
     "data": {
      "image/png": "[encoded data removed]",
      "text/plain": [
       "<Figure size 432x288 with 1 Axes>"
      ]
     },
     "metadata": {},
     "output_type": "display_data"
    }
   ],
   "source": [
    "plt.plot(df3_1.iloc[:, 16])"
   ]
  },
  {
   "cell_type": "code",
   "execution_count": 63,
   "metadata": {},
   "outputs": [
    {
     "data": {
      "image/png": "[encoded data removed]",
      "text/plain": [
       "<Figure size 432x288 with 5 Axes>"
      ]
     },
     "metadata": {},
     "output_type": "display_data"
    }
   ],
   "source": [
    "p = [1, 2, 3, 4, 5]\n",
    "for i in range(5):\n",
    "    p[i] = plt.subplot(2, 3, i+1)\n",
    "    plt.plot(df[i].iloc[:,14])"
   ]
  },
  {
   "cell_type": "code",
   "execution_count": 64,
   "metadata": {},
   "outputs": [
    {
     "data": {
      "image/png": "[encoded data removed]",
      "text/plain": [
       "<Figure size 432x288 with 5 Axes>"
      ]
     },
     "metadata": {},
     "output_type": "display_data"
    }
   ],
   "source": [
    "p = [1, 2, 3, 4, 5]\n",
    "for i in range(5):\n",
    "    p[i] = plt.subplot(2, 3, i+1)\n",
    "    plt.plot(df[i].iloc[:, 16])"
   ]
  },
  {
   "cell_type": "code",
   "execution_count": 67,
   "metadata": {},
   "outputs": [
    {
     "data": {
      "image/png": "[encoded data removed]",
      "text/plain": [
       "<Figure size 432x288 with 5 Axes>"
      ]
     },
     "metadata": {},
     "output_type": "display_data"
    }
   ],
   "source": [
    "p = [1, 2, 3, 4, 5]\n",
    "for i in range(5):\n",
    "    p[i] = plt.subplot(2, 3, i+1)\n",
    "    plt.plot(df[i].iloc[:, 10])"
   ]
  },
  {
   "cell_type": "code",
   "execution_count": 66,
   "metadata": {},
   "outputs": [
    {
     "data": {
      "text/plain": [
       "454848    3738003.0\n",
       "522414          NaN\n",
       "541546          NaN\n",
       "83708       10048.0\n",
       "Name: prev_quant, dtype: float64"
      ]
     },
     "execution_count": 66,
     "metadata": {},
     "output_type": "execute_result"
    }
   ],
   "source": [
    "data2.iloc[1:5,19]"
   ]
  },
  {
   "cell_type": "code",
   "execution_count": null,
   "metadata": {},
   "outputs": [],
   "source": []
  },
  {
   "cell_type": "code",
   "execution_count": 181,
   "metadata": {},
   "outputs": [
    {
     "data": {
      "text/plain": [
       "85606       2125.0\n",
       "509100         NaN\n",
       "568536    237702.0\n",
       "523254    156688.0\n",
       "Name: prev_quant, dtype: float64"
      ]
     },
     "execution_count": 181,
     "metadata": {},
     "output_type": "execute_result"
    }
   ],
   "source": [
    "data.iloc[1:5, 19]"
   ]
  },
  {
   "cell_type": "code",
   "execution_count": 9,
   "metadata": {},
   "outputs": [],
   "source": [
    "data3 = data[[\"itemname\", \"open_val\", \"frgn_hold_ratio\"]]"
   ]
  },
  {
   "cell_type": "code",
   "execution_count": 13,
   "metadata": {},
   "outputs": [],
   "source": [
    "name = data3.iloc[:, 0].unique()"
   ]
  },
  {
   "cell_type": "code",
   "execution_count": 16,
   "metadata": {},
   "outputs": [
    {
     "data": {
      "text/plain": [
       "(2334,)"
      ]
     },
     "execution_count": 16,
     "metadata": {},
     "output_type": "execute_result"
    }
   ],
   "source": [
    "name.shape"
   ]
  },
  {
   "cell_type": "code",
   "execution_count": null,
   "metadata": {},
   "outputs": [],
   "source": []
  }
 ],
 "metadata": {
  "kernelspec": {
   "display_name": "Python 3",
   "language": "python",
   "name": "python3"
  },
  "language_info": {
   "codemirror_mode": {
    "name": "ipython",
    "version": 3
   },
   "file_extension": ".py",
   "mimetype": "text/x-python",
   "name": "python",
   "nbconvert_exporter": "python",
   "pygments_lexer": "ipython3",
   "version": "3.6.5"
  }
 },
 "nbformat": 4,
 "nbformat_minor": 2
}
